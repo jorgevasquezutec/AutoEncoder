{
 "cells": [
  {
   "cell_type": "code",
   "execution_count": 1,
   "metadata": {},
   "outputs": [
    {
     "name": "stderr",
     "output_type": "stream",
     "text": [
      "/home/jorge/.local/lib/python3.10/site-packages/tqdm/auto.py:22: TqdmWarning: IProgress not found. Please update jupyter and ipywidgets. See https://ipywidgets.readthedocs.io/en/stable/user_install.html\n",
      "  from .autonotebook import tqdm as notebook_tqdm\n"
     ]
    }
   ],
   "source": [
    "import torch\n",
    "import torch.nn as nn\n",
    "import torchvision\n",
    "import torchvision.transforms as transform\n",
    "import torch.nn.functional as F\n",
    "import gdown\n",
    "from zipfile import ZipFile \n",
    "import matplotlib.pyplot as plt\n",
    "import numpy as np\n",
    "import math\n",
    "import pandas as pd\n",
    "from typing_extensions import Required\n",
    "from torch.utils.data import Dataset, DataLoader\n",
    "import sys\n",
    "import glob\n",
    "import cv2 as cv\n",
    "import matplotlib as mpl\n",
    "import matplotlib.pyplot as plt\n",
    "from torchvision.utils import save_image"
   ]
  },
  {
   "cell_type": "code",
   "execution_count": 2,
   "metadata": {},
   "outputs": [
    {
     "name": "stdout",
     "output_type": "stream",
     "text": [
      "cuda:0\n"
     ]
    }
   ],
   "source": [
    "device = torch.device('cuda:0' if torch.cuda.is_available() else 'cpu')\n",
    "#device = torch.device('cpu')\n",
    "print(device)"
   ]
  },
  {
   "cell_type": "code",
   "execution_count": 3,
   "metadata": {},
   "outputs": [],
   "source": [
    "def read_data(path,resize_fact):\n",
    "    images = []\n",
    "    for i, image in enumerate(path):\n",
    "        image = cv.imread(image)\n",
    "        image = cv.resize(image, resize_fact)\n",
    "        images.append(image)\n",
    "    return images"
   ]
  },
  {
   "cell_type": "code",
   "execution_count": 4,
   "metadata": {},
   "outputs": [],
   "source": [
    "DATASET_DIR='data/'\n",
    "TEST_DIR = DATASET_DIR+'test/'\n",
    "TRAIN_DIR = DATASET_DIR+'train/'\n",
    "TRAIN_CLEAN = DATASET_DIR+'train_cleaned/'\n",
    "files_train = glob.glob(TRAIN_DIR+ '*.png')\n",
    "files_test = glob.glob(TEST_DIR+ '*.png')\n",
    "files_train_clean = glob.glob(TRAIN_CLEAN+'*.png')\n",
    "\n",
    "resize_factor = (256,256)\n",
    "\n",
    "train_set =   read_data(files_train,resize_fact=resize_factor)\n",
    "images_test =  read_data(files_test,resize_fact=resize_factor)\n",
    "images_clean = read_data(files_train_clean,resize_fact=resize_factor)\n",
    "\n",
    "trasform = transform.Compose([\n",
    "    transform.ToPILImage(),\n",
    "    transform.ToTensor()\n",
    "])\n"
   ]
  },
  {
   "cell_type": "code",
   "execution_count": 7,
   "metadata": {},
   "outputs": [],
   "source": [
    "#https://pytorch.org/tutorials/beginner/data_loading_tutorial.html\n",
    "#Creamos el dataset para poder enviarlo al dataloader\n",
    "class imageSet(Dataset):\n",
    "    def __init__(self, X, Y=None, T=None):\n",
    "        self.x = X\n",
    "        self.y = Y\n",
    "        self.transforms = T\n",
    "         \n",
    "    def __len__(self):\n",
    "        return (len(self.x))\n",
    "    \n",
    "    def __getitem__(self, idx):\n",
    "        data = self.x[idx][:]\n",
    "        \n",
    "        if self.transforms:\n",
    "            data = self.transforms(data)\n",
    "            \n",
    "        if self.y is not None:\n",
    "            labels = self.y[idx][:]\n",
    "            labels = self.transforms(labels)\n",
    "            return (data, labels)\n",
    "        else:\n",
    "            return data"
   ]
  },
  {
   "cell_type": "code",
   "execution_count": 8,
   "metadata": {},
   "outputs": [],
   "source": [
    "data_train = imageSet(train_set,images_clean,trasform)\n",
    "data_test = imageSet(images_test,None,trasform)\n",
    "\n",
    "train_loader = DataLoader(data_train,batch_size=2,shuffle=True)\n",
    "test_loader = DataLoader(data_test,batch_size=2,shuffle=True)\n"
   ]
  },
  {
   "cell_type": "code",
   "execution_count": 54,
   "metadata": {},
   "outputs": [],
   "source": [
    "class Encoder(nn.Module):\n",
    "  def __init__(self):\n",
    "    super(Encoder, self).__init__()\n",
    "    self.conv1 = nn.Conv2d(in_channels=3, out_channels=128, kernel_size=3,padding=1)\n",
    "    self.conv2 = nn.Conv2d(in_channels=128, out_channels=64, kernel_size=3,padding=1)\n",
    "    self.pool = nn.MaxPool2d(2, 2)\n",
    "    self.bn = nn.BatchNorm2d(64)\n",
    "   \n",
    "\n",
    "  def forward(self, image):\n",
    "  \n",
    "    out = self.conv1(image)\n",
    "    out = F.relu(out)\n",
    "    out = self.pool(out)\n",
    "    \n",
    "    out = self.conv2(out)\n",
    "    out = F.relu(out)\n",
    "    out = self.bn(out)\n",
    "    out = self.pool(out)\n",
    "\n",
    "    return out\n",
    "\n",
    "class Decoder(nn.Module):\n",
    "  def __init__(self):\n",
    "    super(Decoder, self).__init__()\n",
    "    self.convTran1 = nn.ConvTranspose2d(64, 64, kernel_size=2, stride=2)  \n",
    "    self.convTran2 = nn.ConvTranspose2d(64, 128, kernel_size=2, stride=2)\n",
    "    self.out = nn.ConvTranspose2d(128, 3, kernel_size=3, padding=1)\n",
    "    self.dropout = nn.Dropout(p=0.5)\n",
    "    self.bn = nn.BatchNorm2d(64)\n",
    "    self.unpool = nn.MaxUnpool2d(2, stride=2)\n",
    "\n",
    "  def forward(self, latent):\n",
    "    out = latent\n",
    "    out = self.convTran1(latent)\n",
    "    out = F.relu(out)\n",
    "    out = self.bn(out)\n",
    "    out = self.convTran2(out)\n",
    "    out = F.relu(out)\n",
    "    out = self.out(out)\n",
    "    out = torch.sigmoid(out)\n",
    "    return out"
   ]
  },
  {
   "cell_type": "code",
   "execution_count": 55,
   "metadata": {},
   "outputs": [],
   "source": [
    "class Autoencoder(nn.Module):\n",
    "   def __init__(self):\n",
    "        super(Autoencoder, self).__init__()\n",
    "        self.encoder = Encoder()\n",
    "        self.decoder = Decoder()\n",
    "\n",
    "   def forward(self, x):\n",
    "        latent = self.encoder(x)\n",
    "        x_recon = self.decoder(latent)\n",
    "        return  x_recon"
   ]
  },
  {
   "cell_type": "code",
   "execution_count": 56,
   "metadata": {},
   "outputs": [],
   "source": [
    "learning_rate = 0.001\n",
    "autoencoder = Autoencoder()\n",
    "autoencoder.to(device)\n",
    "criterion  = nn.MSELoss()\n",
    "optimizer = torch.optim.Adam(params=autoencoder.parameters(), lr=learning_rate, weight_decay=1e-5)"
   ]
  },
  {
   "cell_type": "code",
   "execution_count": 57,
   "metadata": {},
   "outputs": [],
   "source": [
    "# the training function\n",
    "def train(net, train_loader, NUM_EPOCHS):\n",
    "    train_loss = []\n",
    "    for epoch in range(NUM_EPOCHS):\n",
    "        running_loss = 0.0\n",
    "        for data in train_loader:\n",
    "            img = data[0]\n",
    "            labels = data[1]\n",
    "            img = img.to(device)\n",
    "            labels = labels.to(device)\n",
    "            optimizer.zero_grad()\n",
    "            outputs = net(img)\n",
    "            loss = criterion(outputs, labels)\n",
    "            loss.backward()\n",
    "            optimizer.step()\n",
    "            running_loss += loss.item()\n",
    "        \n",
    "        loss = running_loss / len(train_loader)\n",
    "        train_loss.append(loss)\n",
    "        print('Epoch [%d / %d] average reconstruction error: %f' % (epoch+1, NUM_EPOCHS, loss)) \n",
    "    return train_loss"
   ]
  },
  {
   "cell_type": "code",
   "execution_count": 58,
   "metadata": {},
   "outputs": [
    {
     "name": "stdout",
     "output_type": "stream",
     "text": [
      "Epoch [1 / 20] average reconstruction error: 0.036601\n",
      "Epoch [2 / 20] average reconstruction error: 0.013754\n",
      "Epoch [3 / 20] average reconstruction error: 0.010443\n",
      "Epoch [4 / 20] average reconstruction error: 0.008841\n",
      "Epoch [5 / 20] average reconstruction error: 0.007517\n",
      "Epoch [6 / 20] average reconstruction error: 0.006922\n",
      "Epoch [7 / 20] average reconstruction error: 0.006455\n",
      "Epoch [8 / 20] average reconstruction error: 0.005993\n",
      "Epoch [9 / 20] average reconstruction error: 0.005650\n",
      "Epoch [10 / 20] average reconstruction error: 0.005220\n",
      "Epoch [11 / 20] average reconstruction error: 0.005062\n",
      "Epoch [12 / 20] average reconstruction error: 0.004896\n",
      "Epoch [13 / 20] average reconstruction error: 0.004638\n",
      "Epoch [14 / 20] average reconstruction error: 0.004534\n",
      "Epoch [15 / 20] average reconstruction error: 0.004347\n",
      "Epoch [16 / 20] average reconstruction error: 0.004286\n",
      "Epoch [17 / 20] average reconstruction error: 0.004148\n",
      "Epoch [18 / 20] average reconstruction error: 0.004057\n",
      "Epoch [19 / 20] average reconstruction error: 0.003997\n",
      "Epoch [20 / 20] average reconstruction error: 0.004039\n"
     ]
    }
   ],
   "source": [
    "autoencoder.train()\n",
    "loss_result = train(autoencoder,train_loader,20)"
   ]
  },
  {
   "cell_type": "code",
   "execution_count": 188,
   "metadata": {},
   "outputs": [],
   "source": [
    "def Show(out, title = ''):\n",
    "  print(title) # out = out.permute(1,0,2)\n",
    "  # grilla = torchvision.utils.make_grid(out,10,5)\n",
    "  # plt.imshow(transform.ToPILImage()(grilla), 'jet')\n",
    "  # plt.show()\n",
    "  tensor = tensor.cpu().numpy() # make sure tensor is on cpu \n",
    "  cv.imwrite(tensor, \"image.png\") \n",
    " "
   ]
  },
  {
   "cell_type": "code",
   "execution_count": 220,
   "metadata": {},
   "outputs": [],
   "source": [
    "def test(net, test_loader):\n",
    "    with torch.no_grad():\n",
    "        for i, data in enumerate(test_loader):\n",
    "            img = data\n",
    "            #print(\"eNTRAR\",img.shape)\n",
    "            img = img.to(device)\n",
    "            outputs = net(img)\n",
    "            # print(outputs[0].shape)\n",
    "            # print(outputs[0].shape)\n",
    "            # plt.imshow(outputs[0].permute(1, 2, 0)); plt.show() \n",
    "            #preds_0 = outputs[0].reshape(256, 256,3)\n",
    "            #plt.imshow(preds_0,cmap='gray'); plt.show()\n",
    "            image = outputs.cpu()\n",
    "            #Show(outputs, 'Test {}'.format(i+1))\n",
    "            img = img.view(image.size(0), 3, 256, 256)\n",
    "            save_image(img, 'results/test{}.png'.format(i+1))\n",
    "           "
   ]
  },
  {
   "cell_type": "code",
   "execution_count": 60,
   "metadata": {},
   "outputs": [
    {
     "data": {
      "image/png": "[encoded data removed]",
      "text/plain": [
       "<Figure size 432x288 with 1 Axes>"
      ]
     },
     "metadata": {
      "needs_background": "light"
     },
     "output_type": "display_data"
    }
   ],
   "source": [
    "plt.plot(loss_result)\n",
    "plt.xlabel('Epochs')\n",
    "plt.ylabel('Loss')\n",
    "plt.savefig('loss_plot.png')\n",
    "plt.show()"
   ]
  },
  {
   "cell_type": "code",
   "execution_count": null,
   "metadata": {},
   "outputs": [],
   "source": [
    "test(autoencoder,test_loader)"
   ]
  },
  {
   "cell_type": "code",
   "execution_count": 139,
   "metadata": {},
   "outputs": [
    {
     "name": "stdout",
     "output_type": "stream",
     "text": [
      "36\n"
     ]
    }
   ],
   "source": [
    "print(len(test_loader))"
   ]
  },
  {
   "cell_type": "code",
   "execution_count": 24,
   "metadata": {},
   "outputs": [],
   "source": [
    "import torch\n",
    "torch.cuda.empty_cache()"
   ]
  },
  {
   "cell_type": "code",
   "execution_count": 48,
   "metadata": {},
   "outputs": [
    {
     "data": {
      "text/plain": [
       "3563"
      ]
     },
     "execution_count": 48,
     "metadata": {},
     "output_type": "execute_result"
    }
   ],
   "source": [
    "import gc\n",
    "del autoencoder\n",
    "gc.collect()\n"
   ]
  }
 ],
 "metadata": {
  "kernelspec": {
   "display_name": "Python 3.10.5 64-bit",
   "language": "python",
   "name": "python3"
  },
  "language_info": {
   "codemirror_mode": {
    "name": "ipython",
    "version": 3
   },
   "file_extension": ".py",
   "mimetype": "text/x-python",
   "name": "python",
   "nbconvert_exporter": "python",
   "pygments_lexer": "ipython3",
   "version": "3.10.5"
  },
  "orig_nbformat": 4,
  "vscode": {
   "interpreter": {
    "hash": "e7370f93d1d0cde622a1f8e1c04877d8463912d04d973331ad4851f04de6915a"
   }
  }
 },
 "nbformat": 4,
 "nbformat_minor": 2
}
